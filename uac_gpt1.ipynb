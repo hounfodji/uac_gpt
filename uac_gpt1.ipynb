{
 "cells": [
  {
   "cell_type": "markdown",
   "metadata": {},
   "source": [
    "# Chatbot pour l'Université d'Abomey-Calavi (UAC)\n",
    "\n",
    "Ce notebook implémente un chatbot pour l'Université d'Abomey-Calavi en utilisant des techniques de traitement du langage naturel et de recherche d'information."
   ]
  },
  {
   "cell_type": "markdown",
   "metadata": {},
   "source": [
    "## Installation des dépendances\n",
    "\n",
    "Commençons par installer les bibliothèques nécessaires."
   ]
  },
  {
   "cell_type": "code",
   "execution_count": 1,
   "metadata": {},
   "outputs": [
    {
     "name": "stdout",
     "output_type": "stream",
     "text": [
      "Note: you may need to restart the kernel to use updated packages.\n"
     ]
    }
   ],
   "source": [
    "%pip install -q qdrant-client spacy langchain langchain-google-genai langchain_cohere"
   ]
  },
  {
   "cell_type": "markdown",
   "metadata": {},
   "source": [
    "## Importation des bibliothèques\n",
    "\n",
    "Importons maintenant toutes les bibliothèques et modules nécessaires."
   ]
  },
  {
   "cell_type": "code",
   "execution_count": 1,
   "metadata": {},
   "outputs": [
    {
     "name": "stderr",
     "output_type": "stream",
     "text": [
      "USER_AGENT environment variable not set, consider setting it to identify your requests.\n",
      "/home/hounfodji/Music/uac-gpt/venv/lib/python3.10/site-packages/tqdm/auto.py:21: TqdmWarning: IProgress not found. Please update jupyter and ipywidgets. See https://ipywidgets.readthedocs.io/en/stable/user_install.html\n",
      "  from .autonotebook import tqdm as notebook_tqdm\n"
     ]
    }
   ],
   "source": [
    "from langchain_community.document_loaders import WebBaseLoader\n",
    "from langchain_core.output_parsers import StrOutputParser\n",
    "from langchain_cohere import CohereEmbeddings\n",
    "from langchain.text_splitter import SpacyTextSplitter\n",
    "from langchain.vectorstores import Qdrant\n",
    "from langchain.retrievers.contextual_compression import ContextualCompressionRetriever\n",
    "from langchain_cohere import CohereRerank\n",
    "from langchain_google_genai import ChatGoogleGenerativeAI\n",
    "from langchain.chains import create_retrieval_chain\n",
    "from langchain.chains.combine_documents import create_stuff_documents_chain\n",
    "from langchain_core.prompts import ChatPromptTemplate\n",
    "import os"
   ]
  },
  {
   "cell_type": "markdown",
   "metadata": {},
   "source": [
    "## Initialisation du modèle de langage (LLM)\n",
    "\n",
    "Nous utiliserons le modèle Gemini de Google pour notre chatbot."
   ]
  },
  {
   "cell_type": "code",
   "execution_count": null,
   "metadata": {},
   "outputs": [],
   "source": [
    "os.environ[\"GOOGLE_API_KEY\"] = \"your_api_key\"\n",
    "llm = ChatGoogleGenerativeAI(model=\"gemini-1.0-pro\")"
   ]
  },
  {
   "cell_type": "markdown",
   "metadata": {},
   "source": [
    "## Collecte de données\n",
    "\n",
    "Nous allons récupérer des informations à partir du site web de l'UAC."
   ]
  },
  {
   "cell_type": "code",
   "execution_count": null,
   "metadata": {},
   "outputs": [],
   "source": [
    "urls = [\"https://uac.bj/\", \"https://uac.bj/formation/offre-de-formation/licence/\", \n",
    "        \"https://uac.bj/formation/offre-de-formation/master/\", \n",
    "        \"https://uac.bj/formation/offre-de-formation/doctorat/\", \n",
    "        \"https://uac.bj/decouvrir-luniversite/vision-mission/\",\n",
    "        \"https://uac.bj/opportunites-evenements/\"]\n",
    "\n",
    "loader = WebBaseLoader(urls)\n",
    "docs = loader.load()"
   ]
  },
  {
   "cell_type": "markdown",
   "metadata": {},
   "source": [
    "## Préparation des données\n",
    "\n",
    "Nous allons diviser les documents en morceaux plus petits pour un traitement plus efficace."
   ]
  },
  {
   "cell_type": "code",
   "execution_count": null,
   "metadata": {},
   "outputs": [],
   "source": [
    "!python -m spacy download fr_core_news_sm\n",
    "splitter = SpacyTextSplitter(pipeline=\"fr_core_news_sm\", chunk_size=2048, chunk_overlap=256)\n",
    "chunks = splitter.split_documents(docs)"
   ]
  },
  {
   "cell_type": "markdown",
   "metadata": {},
   "source": [
    "## Création d'embeddings et stockage dans une base de données vectorielle\n",
    "\n",
    "Nous utiliserons Cohere pour les embeddings et Qdrant comme base de données vectorielle."
   ]
  },
  {
   "cell_type": "code",
   "execution_count": null,
   "metadata": {},
   "outputs": [],
   "source": [
    "embeddings = CohereEmbeddings(cohere_api_key=\"your_cohere_api_key\")\n",
    "qdrant = Qdrant.from_documents(\n",
    "    chunks,\n",
    "    embeddings,\n",
    "    path=\"./local_qdrant\",\n",
    "    collection_name=\"my_docs\",\n",
    ")"
   ]
  },
  {
   "cell_type": "markdown",
   "metadata": {},
   "source": [
    "## Configuration du système de récupération\n",
    "\n",
    "Nous allons configurer notre système pour récupérer les documents pertinents."
   ]
  },
  {
   "cell_type": "code",
   "execution_count": null,
   "metadata": {},
   "outputs": [],
   "source": [
    "retriever = qdrant.as_retriever(search_kwargs={\"k\": 12})\n",
    "\n",
    "system_prompt_rag = (\n",
    "    \"You're a chatbot for University of Abomey-Calavi. \"\n",
    "    \"You should give concise answer following user query. \"\n",
    "    \"Use the given context to answer the question. \"\n",
    "    \"If you don't know the answer, say you don't know. \"\n",
    "    \"Context: {context}\"\n",
    ")\n",
    "\n",
    "prompt_rag = ChatPromptTemplate.from_messages([\n",
    "    (\"system\", system_prompt_rag),\n",
    "    (\"human\", \"{input}\"),\n",
    "])\n",
    "\n",
    "question_answer_chain = create_stuff_documents_chain(llm, prompt_rag)\n",
    "chain = create_retrieval_chain(retriever, question_answer_chain)"
   ]
  },
  {
   "cell_type": "markdown",
   "metadata": {},
   "source": [
    "## Ajout d'un système de reclassement\n",
    "\n",
    "Pour améliorer la pertinence des résultats, nous ajoutons un système de reclassement avec Cohere."
   ]
  },
  {
   "cell_type": "code",
   "execution_count": null,
   "metadata": {},
   "outputs": [],
   "source": [
    "compressor = CohereRerank(cohere_api_key=\"34nAQRvTUN8OPvWp22gaE7WvkQbDQoDfbk81knz8\", top_n=10)\n",
    "compression_retriever = ContextualCompressionRetriever(\n",
    "    base_compressor=compressor, base_retriever=retriever\n",
    ")\n",
    "reranker_chain = create_retrieval_chain(compression_retriever, question_answer_chain)"
   ]
  },
  {
   "cell_type": "markdown",
   "metadata": {},
   "source": [
    "## Fonction chatbot\n",
    "\n",
    "Enfin, nous créons une fonction simple pour interagir avec notre chatbot."
   ]
  },
  {
   "cell_type": "code",
   "execution_count": null,
   "metadata": {},
   "outputs": [],
   "source": [
    "def chatbot(query: str):\n",
    "    result = reranker_chain.invoke({\"input\": query})\n",
    "    return result[\"answer\"]\n",
    "\n",
    "# Exemple d'utilisation\n",
    "response = chatbot(\"Qui est le recteur de l'UAC ?\")\n",
    "print(response)"
   ]
  }
 ],
 "metadata": {
  "kernelspec": {
   "display_name": "venv",
   "language": "python",
   "name": "python3"
  },
  "language_info": {
   "codemirror_mode": {
    "name": "ipython",
    "version": 3
   },
   "file_extension": ".py",
   "mimetype": "text/x-python",
   "name": "python",
   "nbconvert_exporter": "python",
   "pygments_lexer": "ipython3",
   "version": "3.10.12"
  }
 },
 "nbformat": 4,
 "nbformat_minor": 2
}
